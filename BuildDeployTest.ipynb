{
 "cells": [
  {
   "cell_type": "code",
   "execution_count": 29,
   "metadata": {},
   "outputs": [
    {
     "name": "stdout",
     "output_type": "stream",
     "text": [
      "Login Succeeded\n",
      "Sending build context to Docker daemon   16.9kB\n",
      "Step 1/9 : FROM ubuntu:16.04\n",
      " ---> 2a697363a870\n",
      "Step 2/9 : MAINTAINER Amazon SageMaker Examples <amazon-sagemaker-examples@amazon.com>\n",
      " ---> Using cache\n",
      " ---> 7dc69444bafa\n",
      "Step 3/9 : RUN apt-get -y update && apt-get install -y --no-install-recommends     wget     r-base     r-base-dev     libcurl4-openssl-dev     libxml2-dev     libssl-dev     libopenblas-dev     liblapack-dev     libopencv-dev     libxt-dev     libpython3-dev     python3-venv     python3     ca-certificates\n",
      " ---> Using cache\n",
      " ---> 47313c9b7875\n",
      "Step 4/9 : RUN R -e \"install.packages(c('mda', 'plumber','twitteR','ROAuth','tidyverse','purrrlyr','text2vec','caret','glmnet','ggrepel','dummies','reticulate'), repos='https://cloud.r-project.org')\"\n",
      " ---> Using cache\n",
      " ---> 0c307d17310e\n",
      "Step 5/9 : RUN Rscript -e \"install.packages(c('mda', 'plumber'),repos='https://cloud.r-project.org')\"\n",
      " ---> Using cache\n",
      " ---> e42a0ddb8b3b\n",
      "Step 6/9 : RUN Rscript -e \"install.packages(c('tidyverse'),repos='https://cloud.r-project.org')\"\n",
      " ---> Using cache\n",
      " ---> c1539930340a\n",
      "Step 7/9 : COPY model.R /opt/ml/model.R\n",
      " ---> 912f72e47ba3\n",
      "Step 8/9 : COPY plumber.R /opt/ml/plumber.R\n",
      " ---> 27c83bd0b44e\n",
      "Step 9/9 : ENTRYPOINT [\"/usr/bin/Rscript\", \"/opt/ml/model.R\", \"--no-save\"]\n",
      " ---> Running in 737d31aa2902\n",
      "Removing intermediate container 737d31aa2902\n",
      " ---> 23bea731d80c\n",
      "Successfully built 23bea731d80c\n",
      "Successfully tagged sagemaker-r-example:latest\n",
      "The push refers to repository [001178237879.dkr.ecr.us-east-1.amazonaws.com/sagemaker-r-example]\n",
      "8bc75ba7323d: Preparing\n",
      "f00d68ce1868: Preparing\n",
      "926478dcddd0: Preparing\n",
      "2bff436efa78: Preparing\n",
      "513ba96441a4: Preparing\n",
      "967e2c840960: Preparing\n",
      "4c54072a5034: Preparing\n",
      "49652298c779: Preparing\n",
      "e15278fcccca: Preparing\n",
      "739482a9723d: Preparing\n",
      "967e2c840960: Waiting\n",
      "4c54072a5034: Waiting\n",
      "49652298c779: Waiting\n",
      "e15278fcccca: Waiting\n",
      "739482a9723d: Waiting\n",
      "926478dcddd0: Layer already exists\n",
      "2bff436efa78: Layer already exists\n",
      "513ba96441a4: Layer already exists\n",
      "967e2c840960: Layer already exists\n",
      "4c54072a5034: Layer already exists\n",
      "49652298c779: Layer already exists\n",
      "739482a9723d: Layer already exists\n",
      "e15278fcccca: Layer already exists\n",
      "f00d68ce1868: Pushed\n",
      "8bc75ba7323d: Pushed\n",
      "latest: digest: sha256:e8d0655c503a9e723706b93ad130763aee6f90ab609b8a6f4b460bb8ce5e07a6 size: 2410\n"
     ]
    },
    {
     "name": "stderr",
     "output_type": "stream",
     "text": [
      "WARNING! Using --password via the CLI is insecure. Use --password-stdin.\n",
      "WARNING! Your password will be stored unencrypted in /home/ec2-user/.docker/config.json.\n",
      "Configure a credential helper to remove this warning. See\n",
      "https://docs.docker.com/engine/reference/commandline/login/#credentials-store\n",
      "\n"
     ]
    }
   ],
   "source": [
    "%%sh\n",
    "\n",
    "# The name of our algorithm\n",
    "algorithm_name=sagemaker-r-example\n",
    "\n",
    "cd model\n",
    "\n",
    "#set -e # stop if anything fails\n",
    "\n",
    "account=$(aws sts get-caller-identity --query Account --output text)\n",
    "\n",
    "# Get the region defined in the current configuration (default to us-west-2 if none defined)\n",
    "region=$(aws configure get region)\n",
    "region=${region:-us-east-1}\n",
    "\n",
    "fullname=\"${account}.dkr.ecr.${region}.amazonaws.com/${algorithm_name}:latest\"\n",
    "\n",
    "# If the repository doesn't exist in ECR, create it.\n",
    "aws ecr describe-repositories --repository-names \"${algorithm_name}\" > /dev/null 2>&1\n",
    "\n",
    "if [ $? -ne 0 ]\n",
    "then\n",
    "    aws ecr create-repository --repository-name \"${algorithm_name}\" > /dev/null\n",
    "fi\n",
    "\n",
    "# Get the login command from ECR and execute it directly\n",
    "$(aws ecr get-login --region ${region} --no-include-email)\n",
    "\n",
    "# Build the docker image locally with the image name and then push it to ECR\n",
    "# with the full name.\n",
    "docker build  -t ${algorithm_name} .\n",
    "docker tag ${algorithm_name} ${fullname}\n",
    "\n",
    "docker push ${fullname}"
   ]
  },
  {
   "cell_type": "code",
   "execution_count": 30,
   "metadata": {},
   "outputs": [],
   "source": [
    "import boto3\n",
    "\n",
    "import time\n",
    "# Define IAM role\n",
    "import boto3\n",
    "import re\n",
    "from sagemaker import get_execution_role\n",
    "\n",
    "role = get_execution_role()\n",
    "\n",
    "region = boto3.Session().region_name\n",
    "account = boto3.client('sts').get_caller_identity().get('Account')\n"
   ]
  },
  {
   "cell_type": "code",
   "execution_count": 31,
   "metadata": {},
   "outputs": [
    {
     "name": "stdout",
     "output_type": "stream",
     "text": [
      "Training job sagemaker-r-example-2019-06-10-13-01-01\n"
     ]
    }
   ],
   "source": [
    "r_job = 'sagemaker-r-example-' + time.strftime(\"%Y-%m-%d-%H-%M-%S\", time.gmtime())\n",
    "\n",
    "print(\"Training job\", r_job)\n",
    "\n",
    "bucket = \"rpoc-master-pipeline-input-data\"\n",
    "prefix = \"input/data\"\n",
    "\n",
    "r_training_params = {\n",
    "    \"RoleArn\": role,\n",
    "    \"TrainingJobName\": r_job,\n",
    "    \"AlgorithmSpecification\": {\n",
    "        \"TrainingImage\": '{}.dkr.ecr.{}.amazonaws.com/sagemaker-r-example:latest'.format(account, region),\n",
    "        \"TrainingInputMode\": \"File\"\n",
    "    },\n",
    "    \"ResourceConfig\": {\n",
    "        \"InstanceCount\": 1,\n",
    "        \"InstanceType\": \"ml.m4.xlarge\",\n",
    "        \"VolumeSizeInGB\": 10\n",
    "    },\n",
    "    \"InputDataConfig\": [\n",
    "        {\n",
    "            \"ChannelName\": \"train\",\n",
    "            \"DataSource\": {\n",
    "                \"S3DataSource\": {\n",
    "                    \"S3DataType\": \"S3Prefix\",\n",
    "                    \"S3Uri\": \"s3://{}/{}/training\".format(bucket, prefix),\n",
    "                    \"S3DataDistributionType\": \"FullyReplicated\"\n",
    "                }\n",
    "            },\n",
    "            \"CompressionType\": \"None\",\n",
    "            \"RecordWrapperType\": \"None\"\n",
    "        },\n",
    "        {\n",
    "            \"ChannelName\": \"test\",\n",
    "            \"DataSource\": {\n",
    "                \"S3DataSource\": {\n",
    "                    \"S3DataType\": \"S3Prefix\",\n",
    "                    \"S3Uri\": \"s3://{}/{}/testing\".format(bucket, prefix),\n",
    "                    \"S3DataDistributionType\": \"FullyReplicated\"\n",
    "                }\n",
    "            },\n",
    "            \"CompressionType\": \"None\",\n",
    "            \"RecordWrapperType\": \"None\"\n",
    "        }\n",
    "    ],\n",
    "    \"OutputDataConfig\": {\n",
    "        \"S3OutputPath\": \"s3://rpoc-master-pipeline-model-output\"\n",
    "    },\n",
    "    \"StoppingCondition\": {\n",
    "        \"MaxRuntimeInSeconds\": 60 * 60\n",
    "    }\n",
    "}"
   ]
  },
  {
   "cell_type": "code",
   "execution_count": 32,
   "metadata": {},
   "outputs": [
    {
     "name": "stdout",
     "output_type": "stream",
     "text": [
      "CPU times: user 17.7 ms, sys: 3.84 ms, total: 21.5 ms\n",
      "Wall time: 271 ms\n"
     ]
    }
   ],
   "source": [
    "%%time\n",
    "\n",
    "sm = boto3.client('sagemaker')\n",
    "sm.create_training_job(**r_training_params)"
   ]
  },
  {
   "cell_type": "code",
   "execution_count": 33,
   "metadata": {},
   "outputs": [],
   "source": [
    "r_hosting_container = {\n",
    "    'Image': '{}.dkr.ecr.{}.amazonaws.com/sagemaker-r-example:latest'.format(account, region),\n",
    "    'ModelDataUrl': sm.describe_training_job(TrainingJobName=r_job)['ModelArtifacts']['S3ModelArtifacts']\n",
    "}\n",
    "\n",
    "create_model_response = sm.create_model(\n",
    "    ModelName=r_job,\n",
    "    ExecutionRoleArn=role,\n",
    "    PrimaryContainer=r_hosting_container)"
   ]
  },
  {
   "cell_type": "code",
   "execution_count": 35,
   "metadata": {},
   "outputs": [
    {
     "name": "stdout",
     "output_type": "stream",
     "text": [
      "sagemaker-r-example-config-2019-06-10-13-08-35\n",
      "Endpoint Config Arn: arn:aws:sagemaker:us-east-1:001178237879:endpoint-config/sagemaker-r-example-config-2019-06-10-13-08-35\n"
     ]
    }
   ],
   "source": [
    "r_endpoint_config = 'sagemaker-r-example-config-' + time.strftime(\"%Y-%m-%d-%H-%M-%S\", time.gmtime())\n",
    "print(r_endpoint_config)\n",
    "create_endpoint_config_response = sm.create_endpoint_config(\n",
    "    EndpointConfigName=r_endpoint_config,\n",
    "    ProductionVariants=[{\n",
    "        'InstanceType': 'ml.m4.xlarge',\n",
    "        'InitialInstanceCount': 1,\n",
    "        'ModelName': r_job,\n",
    "        'VariantName': 'AllTraffic'}])\n",
    "\n",
    "print(\"Endpoint Config Arn: \" + create_endpoint_config_response['EndpointConfigArn'])"
   ]
  },
  {
   "cell_type": "code",
   "execution_count": null,
   "metadata": {},
   "outputs": [
    {
     "name": "stdout",
     "output_type": "stream",
     "text": [
      "sagemaker-r-example-endpoint-201906101309\n",
      "arn:aws:sagemaker:us-east-1:001178237879:endpoint/sagemaker-r-example-endpoint-201906101309\n",
      "Status: Creating\n"
     ]
    }
   ],
   "source": [
    "%%time\n",
    "\n",
    "r_endpoint = 'sagemaker-r-example-endpoint-' + time.strftime(\"%Y%m%d%H%M\", time.gmtime())\n",
    "print(r_endpoint)\n",
    "create_endpoint_response = sm.create_endpoint(\n",
    "    EndpointName=r_endpoint,\n",
    "    EndpointConfigName=r_endpoint_config)\n",
    "print(create_endpoint_response['EndpointArn'])\n",
    "\n",
    "resp = sm.describe_endpoint(EndpointName=r_endpoint)\n",
    "status = resp['EndpointStatus']\n",
    "print(\"Status: \" + status)\n",
    "\n",
    "try:\n",
    "    sm.get_waiter('endpoint_in_service').wait(EndpointName=r_endpoint)\n",
    "finally:\n",
    "    resp = sm.describe_endpoint(EndpointName=r_endpoint)\n",
    "    status = resp['EndpointStatus']\n",
    "    print(\"Arn: \" + resp['EndpointArn'])\n",
    "    print(\"Status: \" + status)\n",
    "\n",
    "    if status != 'InService':\n",
    "        raise Exception('Endpoint creation did not succeed')"
   ]
  },
  {
   "cell_type": "code",
   "execution_count": null,
   "metadata": {},
   "outputs": [],
   "source": []
  }
 ],
 "metadata": {
  "kernelspec": {
   "display_name": "conda_python3",
   "language": "python",
   "name": "conda_python3"
  },
  "language_info": {
   "codemirror_mode": {
    "name": "ipython",
    "version": 3
   },
   "file_extension": ".py",
   "mimetype": "text/x-python",
   "name": "python",
   "nbconvert_exporter": "python",
   "pygments_lexer": "ipython3",
   "version": "3.6.5"
  }
 },
 "nbformat": 4,
 "nbformat_minor": 2
}
